{
 "cells": [
  {
   "cell_type": "markdown",
   "id": "711f786c",
   "metadata": {},
   "source": [
    "# 01/02/03 - Getting Data & Cleaning/Wrangling/EDA"
   ]
  },
  {
   "cell_type": "code",
   "execution_count": null,
   "id": "c9c7271a",
   "metadata": {},
   "outputs": [],
   "source": [
    "import numpy as np\n",
    "import pandas as pd\n",
    "pd.set_option('display.max_columns', None)\n",
    "import warnings\n",
    "warnings.filterwarnings('ignore')\n",
    "market_cust_data=pd.read_csv(\"files_for_lab/csv_files/marketing_customer_analysis.csv\")\n",
    "    \n",
    "def convert_nan_to_mode(df,colname):\n",
    "    if df[colname].isna().value_counts(normalize=True)[True]<0.1:\n",
    "        df[colname] = df[colname].fillna(df[colname].value_counts().index[0])\n",
    "    return df\n",
    "\n",
    "# NOTE: Run cell 1 and def convert_nan_to_mode(df,colname) function before running this transformation function.\n",
    "\n",
    "def transform_df(df):\n",
    "    # Drop the Unnamed column\n",
    "    df.drop(['Unnamed: 0'], axis=1,inplace=True)\n",
    "    # 2. Standardize header names.\n",
    "    df.columns = [col.lower().replace(' ','_') for col in df.columns] \n",
    "    # 3. Which columns are numerical?\n",
    "    list(df.describe(include=[int,float]).T.index)\n",
    "    # 4. Which columns are categorical?\n",
    "    list(df.describe(include=[object]).T.index)\n",
    "    # 5. Check and deal with NaN values.\n",
    "    df.isna().sum()\n",
    "    # As NaN account for less than 10%, we can safely replace the NaNs with Mode (most frequent value)\n",
    "    df=convert_nan_to_mode(df,'state')\n",
    "    # As NaN account for less than 10%, we can safely replace the NaNs with Mode (most frequent value)\n",
    "    df=convert_nan_to_mode(df,'response')\n",
    "    # Even though the NaNs account for less than 10% of the total values of this column, the column values are categorical and\n",
    "    # are evenly distributed in all the categories. Moving NaNs to any of the categories will 'skew' the distribution. The best\n",
    "    # way would be to delete the rows having NaNs in this column.\n",
    "    df = df[df['months_since_last_claim'].notna()]\n",
    "    # As NaN account for less than 10%, we can safely replace the NaNs with Mode (most frequent value)\n",
    "    df=convert_nan_to_mode(df,'vehicle_class')\n",
    "    # As NaN account for less than 10%, we can safely replace the NaNs with Mode (most frequent value)\n",
    "    df=convert_nan_to_mode(df,'vehicle_size')\n",
    "    # As NaNs account for more than 50% of the values in this column, we cannot simply remove the rows. We have to assign a default\n",
    "    # value to the NaNs which is not equal to the most frequent non null value 'A' otherwise the distribution will again get 'skewed'.\n",
    "    df['vehicle_type'] = df['vehicle_type'].fillna('U')\n",
    "    # 6. Extract the months from the dataset and store in a separate column. \n",
    "    df['effective_to_date']=pd.to_datetime(df['effective_to_date'],errors='coerce')\n",
    "    df['effective_to_month']=df['effective_to_date'].apply(lambda x : x.month)\n",
    "    df[df['effective_to_month'].isin([1,2,3])]\n",
    "    return df\n"
   ]
  },
  {
   "cell_type": "code",
   "execution_count": null,
   "id": "708b3d8b",
   "metadata": {},
   "outputs": [],
   "source": [
    "market_cust_data=transform_df(market_cust_data)\n",
    "market_cust_data.to_csv(\"market_cust_data.csv\",index=False)"
   ]
  },
  {
   "cell_type": "markdown",
   "id": "20d45e9f",
   "metadata": {},
   "source": [
    "# 04 - Processing Data"
   ]
  },
  {
   "cell_type": "code",
   "execution_count": null,
   "id": "4c151fb3",
   "metadata": {},
   "outputs": [],
   "source": []
  }
 ],
 "metadata": {
  "kernelspec": {
   "display_name": "Python 3 (ipykernel)",
   "language": "python",
   "name": "python3"
  },
  "language_info": {
   "codemirror_mode": {
    "name": "ipython",
    "version": 3
   },
   "file_extension": ".py",
   "mimetype": "text/x-python",
   "name": "python",
   "nbconvert_exporter": "python",
   "pygments_lexer": "ipython3",
   "version": "3.9.13"
  }
 },
 "nbformat": 4,
 "nbformat_minor": 5
}
