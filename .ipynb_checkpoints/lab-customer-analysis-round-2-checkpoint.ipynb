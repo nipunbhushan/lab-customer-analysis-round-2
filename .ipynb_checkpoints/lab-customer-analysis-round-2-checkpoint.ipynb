{
 "cells": [
  {
   "cell_type": "markdown",
   "id": "051f0ffa",
   "metadata": {},
   "source": [
    "## Run the below cell compulsorily"
   ]
  },
  {
   "cell_type": "code",
   "execution_count": 3,
   "id": "20a68869",
   "metadata": {},
   "outputs": [],
   "source": [
    "import numpy as np\n",
    "import pandas as pd\n",
    "pd.set_option('display.max_columns', None)\n",
    "import warnings\n",
    "warnings.filterwarnings('ignore')\n",
    "market_cust_data=pd.read_csv(\"files_for_lab/csv_files/marketing_customer_analysis.csv\")"
   ]
  },
  {
   "cell_type": "code",
   "execution_count": null,
   "id": "8ed53bb4",
   "metadata": {},
   "outputs": [],
   "source": [
    "# 1. Show the dataframe shape.\n",
    "market_cust_data.shape\n",
    "# Drop the Unnamed column\n",
    "market_cust_data.drop(['Unnamed: 0'], axis=1,inplace=True)"
   ]
  },
  {
   "cell_type": "code",
   "execution_count": null,
   "id": "302e0ac2",
   "metadata": {},
   "outputs": [],
   "source": [
    "# 2. Standardize header names.\n",
    "market_cust_data.columns = [col.lower().replace(' ','_') for col in market_cust_data.columns]"
   ]
  },
  {
   "cell_type": "code",
   "execution_count": null,
   "id": "e4aac656",
   "metadata": {},
   "outputs": [],
   "source": [
    "# 3. Which columns are numerical?\n",
    "list(market_cust_data.describe(include=[int,float]).T.index)"
   ]
  },
  {
   "cell_type": "code",
   "execution_count": null,
   "id": "a45304c5",
   "metadata": {},
   "outputs": [],
   "source": [
    "# 4. Which columns are categorical?\n",
    "list(market_cust_data.describe(include=[object]).T.index)"
   ]
  },
  {
   "cell_type": "code",
   "execution_count": null,
   "id": "00fccf97",
   "metadata": {},
   "outputs": [],
   "source": [
    "# 5. Check and deal with NaN values.\n",
    "market_cust_data.isna().sum()"
   ]
  },
  {
   "cell_type": "markdown",
   "id": "e1c9c10b",
   "metadata": {},
   "source": [
    "## Run below cell before running Transformation Function"
   ]
  },
  {
   "cell_type": "code",
   "execution_count": 4,
   "id": "bd739ca0",
   "metadata": {},
   "outputs": [],
   "source": [
    "def convert_nan_to_mode(df,colname):\n",
    "    if df[colname].isna().value_counts(normalize=True)[True]<0.1:\n",
    "        df[colname] = df[colname].fillna(df[colname].value_counts().index[0])\n",
    "    return df"
   ]
  },
  {
   "cell_type": "code",
   "execution_count": null,
   "id": "33f5718b",
   "metadata": {},
   "outputs": [],
   "source": [
    "def freq_cnt_perc(df,colname):\n",
    "    return (round(df[colname].value_counts(normalize=True,dropna=False)*100,2)).astype(str) + '%'"
   ]
  },
  {
   "cell_type": "code",
   "execution_count": null,
   "id": "95ea27dd",
   "metadata": {},
   "outputs": [],
   "source": [
    "freq_cnt_perc(market_cust_data,'state')"
   ]
  },
  {
   "cell_type": "code",
   "execution_count": null,
   "id": "66f72ec7",
   "metadata": {},
   "outputs": [],
   "source": [
    "# As NaN account for less than 10%, we can safely replace the NaNs with Mode (most frequent value)\n",
    "market_cust_data=convert_nan_to_mode(market_cust_data,'state')\n",
    "freq_cnt_perc(market_cust_data,'state')"
   ]
  },
  {
   "cell_type": "code",
   "execution_count": null,
   "id": "a12ab0be",
   "metadata": {},
   "outputs": [],
   "source": [
    "freq_cnt_perc(market_cust_data,'response')"
   ]
  },
  {
   "cell_type": "code",
   "execution_count": null,
   "id": "c464b3b3",
   "metadata": {},
   "outputs": [],
   "source": [
    "# # As NaN account for less than 10%, we can safely replace the NaNs with Mode (most frequent value)\n",
    "market_cust_data=convert_nan_to_mode(market_cust_data,'response')\n",
    "freq_cnt_perc(market_cust_data,'response')"
   ]
  },
  {
   "cell_type": "code",
   "execution_count": null,
   "id": "199141d9",
   "metadata": {},
   "outputs": [],
   "source": [
    "freq_cnt_perc(market_cust_data,'months_since_last_claim')"
   ]
  },
  {
   "cell_type": "code",
   "execution_count": null,
   "id": "cce3eeac",
   "metadata": {},
   "outputs": [],
   "source": [
    "# Even though the NaNs account for less than 10% of the total values of this column, the column values are categorical and\n",
    "# are evenly distributed in all the categories. Moving NaNs to any of the categories will 'skew' the distribution. The best\n",
    "# way would be to delete the rows having NaNs in this column.\n",
    "\n",
    "market_cust_data = market_cust_data[market_cust_data['months_since_last_claim'].notna()]\n",
    "freq_cnt_perc(market_cust_data,'months_since_last_claim')"
   ]
  },
  {
   "cell_type": "code",
   "execution_count": null,
   "id": "455d91c6",
   "metadata": {},
   "outputs": [],
   "source": [
    "# The NaNs in column 'number_of_open_complaints' get automatically cleared after removing rows in column \n",
    "# 'months_since_last_claim' containing NaNs\n",
    "\n",
    "freq_cnt_perc(market_cust_data,'number_of_open_complaints')"
   ]
  },
  {
   "cell_type": "code",
   "execution_count": null,
   "id": "24c13bf8",
   "metadata": {},
   "outputs": [],
   "source": [
    "freq_cnt_perc(market_cust_data,'vehicle_class')"
   ]
  },
  {
   "cell_type": "code",
   "execution_count": null,
   "id": "92209e75",
   "metadata": {},
   "outputs": [],
   "source": [
    "# # As NaN account for less than 10%, we can safely replace the NaNs with Mode (most frequent value)\n",
    "market_cust_data=convert_nan_to_mode(market_cust_data,'vehicle_class')\n",
    "freq_cnt_perc(market_cust_data,'vehicle_class')"
   ]
  },
  {
   "cell_type": "code",
   "execution_count": null,
   "id": "fc67901d",
   "metadata": {},
   "outputs": [],
   "source": [
    "freq_cnt_perc(market_cust_data,'vehicle_size')"
   ]
  },
  {
   "cell_type": "code",
   "execution_count": null,
   "id": "d20576fe",
   "metadata": {},
   "outputs": [],
   "source": [
    "# # As NaN account for less than 10%, we can safely replace the NaNs with Mode (most frequent value)\n",
    "market_cust_data=convert_nan_to_mode(market_cust_data,'vehicle_size')\n",
    "freq_cnt_perc(market_cust_data,'vehicle_size')"
   ]
  },
  {
   "cell_type": "code",
   "execution_count": null,
   "id": "67cc4acb",
   "metadata": {},
   "outputs": [],
   "source": [
    "freq_cnt_perc(market_cust_data,'vehicle_type')"
   ]
  },
  {
   "cell_type": "code",
   "execution_count": null,
   "id": "8c305fa5",
   "metadata": {},
   "outputs": [],
   "source": [
    "# As NaNs account for more than 50% of the values in this column, we cannot simply remove the rows. We have to assign a default\n",
    "# value to the NaNs which is not equal to the most frequent non null value 'A' otherwise the distribution will again get 'skewed'.\n",
    "market_cust_data['vehicle_type'] = market_cust_data['vehicle_type'].fillna('U')"
   ]
  },
  {
   "cell_type": "code",
   "execution_count": null,
   "id": "fe48f459",
   "metadata": {},
   "outputs": [],
   "source": [
    "# Check for NaN values once again.\n",
    "market_cust_data.isna().sum()"
   ]
  },
  {
   "cell_type": "code",
   "execution_count": null,
   "id": "fb822bf2",
   "metadata": {},
   "outputs": [],
   "source": [
    "# 6. Extract the months from the dataset and store in a separate column. \n",
    "market_cust_data['effective_to_date']=pd.to_datetime(market_cust_data['effective_to_date'],errors='coerce')\n",
    "market_cust_data['effective_to_month']=market_cust_data['effective_to_date'].apply(lambda x : x.month)\n",
    "market_cust_data[market_cust_data['effective_to_month'].isin([1,2,3])]"
   ]
  },
  {
   "cell_type": "markdown",
   "id": "b01dac4b",
   "metadata": {},
   "source": [
    "## Transformation Function"
   ]
  },
  {
   "cell_type": "code",
   "execution_count": 5,
   "id": "dc40e481",
   "metadata": {},
   "outputs": [],
   "source": [
    "# 7. BONUS: Transformation Function\n",
    "\n",
    "# NOTE: Run cell 1 and def convert_nan_to_mode(df,colname) function before running this transformation function.\n",
    "\n",
    "def transform_df(df):\n",
    "    # Drop the Unnamed column\n",
    "    df.drop(['Unnamed: 0'], axis=1,inplace=True)\n",
    "    # 2. Standardize header names.\n",
    "    df.columns = [col.lower().replace(' ','_') for col in df.columns] \n",
    "    # 3. Which columns are numerical?\n",
    "    list(df.describe(include=[int,float]).T.index)\n",
    "    # 4. Which columns are categorical?\n",
    "    list(df.describe(include=[object]).T.index)\n",
    "    # 5. Check and deal with NaN values.\n",
    "    df.isna().sum()\n",
    "    # As NaN account for less than 10%, we can safely replace the NaNs with Mode (most frequent value)\n",
    "    df=convert_nan_to_mode(df,'state')\n",
    "    # As NaN account for less than 10%, we can safely replace the NaNs with Mode (most frequent value)\n",
    "    df=convert_nan_to_mode(df,'response')\n",
    "    # Even though the NaNs account for less than 10% of the total values of this column, the column values are categorical and\n",
    "    # are evenly distributed in all the categories. Moving NaNs to any of the categories will 'skew' the distribution. The best\n",
    "    # way would be to delete the rows having NaNs in this column.\n",
    "    df = df[df['months_since_last_claim'].notna()]\n",
    "    # As NaN account for less than 10%, we can safely replace the NaNs with Mode (most frequent value)\n",
    "    df=convert_nan_to_mode(df,'vehicle_class')\n",
    "    # As NaN account for less than 10%, we can safely replace the NaNs with Mode (most frequent value)\n",
    "    df=convert_nan_to_mode(df,'vehicle_size')\n",
    "    # As NaNs account for more than 50% of the values in this column, we cannot simply remove the rows. We have to assign a default\n",
    "    # value to the NaNs which is not equal to the most frequent non null value 'A' otherwise the distribution will again get 'skewed'.\n",
    "    df['vehicle_type'] = df['vehicle_type'].fillna('U')\n",
    "    # 6. Extract the months from the dataset and store in a separate column. \n",
    "    df['effective_to_date']=pd.to_datetime(df['effective_to_date'],errors='coerce')\n",
    "    df['effective_to_month']=df['effective_to_date'].apply(lambda x : x.month)\n",
    "    df[df['effective_to_month'].isin([1,2,3])]\n",
    "    return df"
   ]
  },
  {
   "cell_type": "code",
   "execution_count": 6,
   "id": "174d7f2d",
   "metadata": {},
   "outputs": [],
   "source": [
    "market_cust_data=transform_df(market_cust_data)"
   ]
  },
  {
   "cell_type": "markdown",
   "id": "617fb4f1",
   "metadata": {},
   "source": [
    "# lab-customer-analysis-round-3"
   ]
  },
  {
   "cell_type": "code",
   "execution_count": 12,
   "id": "c3f9472e",
   "metadata": {},
   "outputs": [
    {
     "data": {
      "text/html": [
       "<div>\n",
       "<style scoped>\n",
       "    .dataframe tbody tr th:only-of-type {\n",
       "        vertical-align: middle;\n",
       "    }\n",
       "\n",
       "    .dataframe tbody tr th {\n",
       "        vertical-align: top;\n",
       "    }\n",
       "\n",
       "    .dataframe thead th {\n",
       "        text-align: right;\n",
       "    }\n",
       "</style>\n",
       "<table border=\"1\" class=\"dataframe\">\n",
       "  <thead>\n",
       "    <tr style=\"text-align: right;\">\n",
       "      <th></th>\n",
       "      <th>customer</th>\n",
       "      <th>state</th>\n",
       "      <th>customer_lifetime_value</th>\n",
       "      <th>response</th>\n",
       "      <th>coverage</th>\n",
       "      <th>education</th>\n",
       "      <th>effective_to_date</th>\n",
       "      <th>employmentstatus</th>\n",
       "      <th>gender</th>\n",
       "      <th>income</th>\n",
       "      <th>location_code</th>\n",
       "      <th>marital_status</th>\n",
       "      <th>monthly_premium_auto</th>\n",
       "      <th>months_since_last_claim</th>\n",
       "      <th>months_since_policy_inception</th>\n",
       "      <th>number_of_open_complaints</th>\n",
       "      <th>number_of_policies</th>\n",
       "      <th>policy_type</th>\n",
       "      <th>policy</th>\n",
       "      <th>renew_offer_type</th>\n",
       "      <th>sales_channel</th>\n",
       "      <th>total_claim_amount</th>\n",
       "      <th>vehicle_class</th>\n",
       "      <th>vehicle_size</th>\n",
       "      <th>vehicle_type</th>\n",
       "      <th>effective_to_month</th>\n",
       "    </tr>\n",
       "  </thead>\n",
       "  <tbody>\n",
       "    <tr>\n",
       "      <th>0</th>\n",
       "      <td>DK49336</td>\n",
       "      <td>Arizona</td>\n",
       "      <td>4809.216960</td>\n",
       "      <td>No</td>\n",
       "      <td>Basic</td>\n",
       "      <td>College</td>\n",
       "      <td>2011-02-18</td>\n",
       "      <td>Employed</td>\n",
       "      <td>M</td>\n",
       "      <td>48029</td>\n",
       "      <td>Suburban</td>\n",
       "      <td>Married</td>\n",
       "      <td>61</td>\n",
       "      <td>7.0</td>\n",
       "      <td>52</td>\n",
       "      <td>0.0</td>\n",
       "      <td>9</td>\n",
       "      <td>Corporate Auto</td>\n",
       "      <td>Corporate L3</td>\n",
       "      <td>Offer3</td>\n",
       "      <td>Agent</td>\n",
       "      <td>292.800000</td>\n",
       "      <td>Four-Door Car</td>\n",
       "      <td>Medsize</td>\n",
       "      <td>U</td>\n",
       "      <td>2</td>\n",
       "    </tr>\n",
       "    <tr>\n",
       "      <th>1</th>\n",
       "      <td>KX64629</td>\n",
       "      <td>California</td>\n",
       "      <td>2228.525238</td>\n",
       "      <td>No</td>\n",
       "      <td>Basic</td>\n",
       "      <td>College</td>\n",
       "      <td>2011-01-18</td>\n",
       "      <td>Unemployed</td>\n",
       "      <td>F</td>\n",
       "      <td>0</td>\n",
       "      <td>Suburban</td>\n",
       "      <td>Single</td>\n",
       "      <td>64</td>\n",
       "      <td>3.0</td>\n",
       "      <td>26</td>\n",
       "      <td>0.0</td>\n",
       "      <td>1</td>\n",
       "      <td>Personal Auto</td>\n",
       "      <td>Personal L3</td>\n",
       "      <td>Offer4</td>\n",
       "      <td>Call Center</td>\n",
       "      <td>744.924331</td>\n",
       "      <td>Four-Door Car</td>\n",
       "      <td>Medsize</td>\n",
       "      <td>U</td>\n",
       "      <td>1</td>\n",
       "    </tr>\n",
       "    <tr>\n",
       "      <th>2</th>\n",
       "      <td>LZ68649</td>\n",
       "      <td>Washington</td>\n",
       "      <td>14947.917300</td>\n",
       "      <td>No</td>\n",
       "      <td>Basic</td>\n",
       "      <td>Bachelor</td>\n",
       "      <td>2011-02-10</td>\n",
       "      <td>Employed</td>\n",
       "      <td>M</td>\n",
       "      <td>22139</td>\n",
       "      <td>Suburban</td>\n",
       "      <td>Single</td>\n",
       "      <td>100</td>\n",
       "      <td>34.0</td>\n",
       "      <td>31</td>\n",
       "      <td>0.0</td>\n",
       "      <td>2</td>\n",
       "      <td>Personal Auto</td>\n",
       "      <td>Personal L3</td>\n",
       "      <td>Offer3</td>\n",
       "      <td>Call Center</td>\n",
       "      <td>480.000000</td>\n",
       "      <td>SUV</td>\n",
       "      <td>Medsize</td>\n",
       "      <td>A</td>\n",
       "      <td>2</td>\n",
       "    </tr>\n",
       "    <tr>\n",
       "      <th>3</th>\n",
       "      <td>XL78013</td>\n",
       "      <td>Oregon</td>\n",
       "      <td>22332.439460</td>\n",
       "      <td>Yes</td>\n",
       "      <td>Extended</td>\n",
       "      <td>College</td>\n",
       "      <td>2011-01-11</td>\n",
       "      <td>Employed</td>\n",
       "      <td>M</td>\n",
       "      <td>49078</td>\n",
       "      <td>Suburban</td>\n",
       "      <td>Single</td>\n",
       "      <td>97</td>\n",
       "      <td>10.0</td>\n",
       "      <td>3</td>\n",
       "      <td>0.0</td>\n",
       "      <td>2</td>\n",
       "      <td>Corporate Auto</td>\n",
       "      <td>Corporate L3</td>\n",
       "      <td>Offer2</td>\n",
       "      <td>Branch</td>\n",
       "      <td>484.013411</td>\n",
       "      <td>Four-Door Car</td>\n",
       "      <td>Medsize</td>\n",
       "      <td>A</td>\n",
       "      <td>1</td>\n",
       "    </tr>\n",
       "    <tr>\n",
       "      <th>5</th>\n",
       "      <td>HO81102</td>\n",
       "      <td>California</td>\n",
       "      <td>4745.181764</td>\n",
       "      <td>No</td>\n",
       "      <td>Basic</td>\n",
       "      <td>High School or Below</td>\n",
       "      <td>2011-02-14</td>\n",
       "      <td>Employed</td>\n",
       "      <td>M</td>\n",
       "      <td>50549</td>\n",
       "      <td>Suburban</td>\n",
       "      <td>Divorced</td>\n",
       "      <td>61</td>\n",
       "      <td>2.0</td>\n",
       "      <td>73</td>\n",
       "      <td>0.0</td>\n",
       "      <td>7</td>\n",
       "      <td>Personal Auto</td>\n",
       "      <td>Personal L3</td>\n",
       "      <td>Offer1</td>\n",
       "      <td>Agent</td>\n",
       "      <td>292.800000</td>\n",
       "      <td>Four-Door Car</td>\n",
       "      <td>Medsize</td>\n",
       "      <td>A</td>\n",
       "      <td>2</td>\n",
       "    </tr>\n",
       "    <tr>\n",
       "      <th>...</th>\n",
       "      <td>...</td>\n",
       "      <td>...</td>\n",
       "      <td>...</td>\n",
       "      <td>...</td>\n",
       "      <td>...</td>\n",
       "      <td>...</td>\n",
       "      <td>...</td>\n",
       "      <td>...</td>\n",
       "      <td>...</td>\n",
       "      <td>...</td>\n",
       "      <td>...</td>\n",
       "      <td>...</td>\n",
       "      <td>...</td>\n",
       "      <td>...</td>\n",
       "      <td>...</td>\n",
       "      <td>...</td>\n",
       "      <td>...</td>\n",
       "      <td>...</td>\n",
       "      <td>...</td>\n",
       "      <td>...</td>\n",
       "      <td>...</td>\n",
       "      <td>...</td>\n",
       "      <td>...</td>\n",
       "      <td>...</td>\n",
       "      <td>...</td>\n",
       "      <td>...</td>\n",
       "    </tr>\n",
       "    <tr>\n",
       "      <th>10904</th>\n",
       "      <td>QI63521</td>\n",
       "      <td>Nevada</td>\n",
       "      <td>19228.463620</td>\n",
       "      <td>No</td>\n",
       "      <td>Basic</td>\n",
       "      <td>High School or Below</td>\n",
       "      <td>2011-02-24</td>\n",
       "      <td>Unemployed</td>\n",
       "      <td>M</td>\n",
       "      <td>0</td>\n",
       "      <td>Suburban</td>\n",
       "      <td>Single</td>\n",
       "      <td>187</td>\n",
       "      <td>14.0</td>\n",
       "      <td>32</td>\n",
       "      <td>0.0</td>\n",
       "      <td>2</td>\n",
       "      <td>Personal Auto</td>\n",
       "      <td>Personal L2</td>\n",
       "      <td>Offer1</td>\n",
       "      <td>Branch</td>\n",
       "      <td>897.600000</td>\n",
       "      <td>Luxury SUV</td>\n",
       "      <td>Medsize</td>\n",
       "      <td>A</td>\n",
       "      <td>2</td>\n",
       "    </tr>\n",
       "    <tr>\n",
       "      <th>10906</th>\n",
       "      <td>KX53892</td>\n",
       "      <td>Oregon</td>\n",
       "      <td>5259.444853</td>\n",
       "      <td>No</td>\n",
       "      <td>Basic</td>\n",
       "      <td>College</td>\n",
       "      <td>2011-01-06</td>\n",
       "      <td>Employed</td>\n",
       "      <td>F</td>\n",
       "      <td>61146</td>\n",
       "      <td>Urban</td>\n",
       "      <td>Married</td>\n",
       "      <td>65</td>\n",
       "      <td>7.0</td>\n",
       "      <td>68</td>\n",
       "      <td>0.0</td>\n",
       "      <td>6</td>\n",
       "      <td>Personal Auto</td>\n",
       "      <td>Personal L3</td>\n",
       "      <td>Offer2</td>\n",
       "      <td>Branch</td>\n",
       "      <td>273.018929</td>\n",
       "      <td>Four-Door Car</td>\n",
       "      <td>Medsize</td>\n",
       "      <td>A</td>\n",
       "      <td>1</td>\n",
       "    </tr>\n",
       "    <tr>\n",
       "      <th>10907</th>\n",
       "      <td>TL39050</td>\n",
       "      <td>Arizona</td>\n",
       "      <td>23893.304100</td>\n",
       "      <td>No</td>\n",
       "      <td>Extended</td>\n",
       "      <td>Bachelor</td>\n",
       "      <td>2011-02-06</td>\n",
       "      <td>Employed</td>\n",
       "      <td>F</td>\n",
       "      <td>39837</td>\n",
       "      <td>Rural</td>\n",
       "      <td>Married</td>\n",
       "      <td>201</td>\n",
       "      <td>11.0</td>\n",
       "      <td>63</td>\n",
       "      <td>0.0</td>\n",
       "      <td>2</td>\n",
       "      <td>Corporate Auto</td>\n",
       "      <td>Corporate L3</td>\n",
       "      <td>Offer1</td>\n",
       "      <td>Web</td>\n",
       "      <td>381.306996</td>\n",
       "      <td>Luxury SUV</td>\n",
       "      <td>Medsize</td>\n",
       "      <td>U</td>\n",
       "      <td>2</td>\n",
       "    </tr>\n",
       "    <tr>\n",
       "      <th>10908</th>\n",
       "      <td>WA60547</td>\n",
       "      <td>California</td>\n",
       "      <td>11971.977650</td>\n",
       "      <td>No</td>\n",
       "      <td>Premium</td>\n",
       "      <td>College</td>\n",
       "      <td>2011-02-13</td>\n",
       "      <td>Employed</td>\n",
       "      <td>F</td>\n",
       "      <td>64195</td>\n",
       "      <td>Urban</td>\n",
       "      <td>Divorced</td>\n",
       "      <td>158</td>\n",
       "      <td>0.0</td>\n",
       "      <td>27</td>\n",
       "      <td>4.0</td>\n",
       "      <td>6</td>\n",
       "      <td>Personal Auto</td>\n",
       "      <td>Personal L1</td>\n",
       "      <td>Offer1</td>\n",
       "      <td>Branch</td>\n",
       "      <td>618.288849</td>\n",
       "      <td>SUV</td>\n",
       "      <td>Medsize</td>\n",
       "      <td>A</td>\n",
       "      <td>2</td>\n",
       "    </tr>\n",
       "    <tr>\n",
       "      <th>10909</th>\n",
       "      <td>IV32877</td>\n",
       "      <td>California</td>\n",
       "      <td>6857.519928</td>\n",
       "      <td>No</td>\n",
       "      <td>Basic</td>\n",
       "      <td>Bachelor</td>\n",
       "      <td>2011-01-08</td>\n",
       "      <td>Unemployed</td>\n",
       "      <td>M</td>\n",
       "      <td>0</td>\n",
       "      <td>Suburban</td>\n",
       "      <td>Single</td>\n",
       "      <td>101</td>\n",
       "      <td>31.0</td>\n",
       "      <td>1</td>\n",
       "      <td>0.0</td>\n",
       "      <td>3</td>\n",
       "      <td>Personal Auto</td>\n",
       "      <td>Personal L1</td>\n",
       "      <td>Offer4</td>\n",
       "      <td>Web</td>\n",
       "      <td>1021.719397</td>\n",
       "      <td>SUV</td>\n",
       "      <td>Medsize</td>\n",
       "      <td>U</td>\n",
       "      <td>1</td>\n",
       "    </tr>\n",
       "  </tbody>\n",
       "</table>\n",
       "<p>10277 rows × 26 columns</p>\n",
       "</div>"
      ],
      "text/plain": [
       "      customer       state  customer_lifetime_value response  coverage  \\\n",
       "0      DK49336     Arizona              4809.216960       No     Basic   \n",
       "1      KX64629  California              2228.525238       No     Basic   \n",
       "2      LZ68649  Washington             14947.917300       No     Basic   \n",
       "3      XL78013      Oregon             22332.439460      Yes  Extended   \n",
       "5      HO81102  California              4745.181764       No     Basic   \n",
       "...        ...         ...                      ...      ...       ...   \n",
       "10904  QI63521      Nevada             19228.463620       No     Basic   \n",
       "10906  KX53892      Oregon              5259.444853       No     Basic   \n",
       "10907  TL39050     Arizona             23893.304100       No  Extended   \n",
       "10908  WA60547  California             11971.977650       No   Premium   \n",
       "10909  IV32877  California              6857.519928       No     Basic   \n",
       "\n",
       "                  education effective_to_date employmentstatus gender  income  \\\n",
       "0                   College        2011-02-18         Employed      M   48029   \n",
       "1                   College        2011-01-18       Unemployed      F       0   \n",
       "2                  Bachelor        2011-02-10         Employed      M   22139   \n",
       "3                   College        2011-01-11         Employed      M   49078   \n",
       "5      High School or Below        2011-02-14         Employed      M   50549   \n",
       "...                     ...               ...              ...    ...     ...   \n",
       "10904  High School or Below        2011-02-24       Unemployed      M       0   \n",
       "10906               College        2011-01-06         Employed      F   61146   \n",
       "10907              Bachelor        2011-02-06         Employed      F   39837   \n",
       "10908               College        2011-02-13         Employed      F   64195   \n",
       "10909              Bachelor        2011-01-08       Unemployed      M       0   \n",
       "\n",
       "      location_code marital_status  monthly_premium_auto  \\\n",
       "0          Suburban        Married                    61   \n",
       "1          Suburban         Single                    64   \n",
       "2          Suburban         Single                   100   \n",
       "3          Suburban         Single                    97   \n",
       "5          Suburban       Divorced                    61   \n",
       "...             ...            ...                   ...   \n",
       "10904      Suburban         Single                   187   \n",
       "10906         Urban        Married                    65   \n",
       "10907         Rural        Married                   201   \n",
       "10908         Urban       Divorced                   158   \n",
       "10909      Suburban         Single                   101   \n",
       "\n",
       "       months_since_last_claim  months_since_policy_inception  \\\n",
       "0                          7.0                             52   \n",
       "1                          3.0                             26   \n",
       "2                         34.0                             31   \n",
       "3                         10.0                              3   \n",
       "5                          2.0                             73   \n",
       "...                        ...                            ...   \n",
       "10904                     14.0                             32   \n",
       "10906                      7.0                             68   \n",
       "10907                     11.0                             63   \n",
       "10908                      0.0                             27   \n",
       "10909                     31.0                              1   \n",
       "\n",
       "       number_of_open_complaints  number_of_policies     policy_type  \\\n",
       "0                            0.0                   9  Corporate Auto   \n",
       "1                            0.0                   1   Personal Auto   \n",
       "2                            0.0                   2   Personal Auto   \n",
       "3                            0.0                   2  Corporate Auto   \n",
       "5                            0.0                   7   Personal Auto   \n",
       "...                          ...                 ...             ...   \n",
       "10904                        0.0                   2   Personal Auto   \n",
       "10906                        0.0                   6   Personal Auto   \n",
       "10907                        0.0                   2  Corporate Auto   \n",
       "10908                        4.0                   6   Personal Auto   \n",
       "10909                        0.0                   3   Personal Auto   \n",
       "\n",
       "             policy renew_offer_type sales_channel  total_claim_amount  \\\n",
       "0      Corporate L3           Offer3         Agent          292.800000   \n",
       "1       Personal L3           Offer4   Call Center          744.924331   \n",
       "2       Personal L3           Offer3   Call Center          480.000000   \n",
       "3      Corporate L3           Offer2        Branch          484.013411   \n",
       "5       Personal L3           Offer1         Agent          292.800000   \n",
       "...             ...              ...           ...                 ...   \n",
       "10904   Personal L2           Offer1        Branch          897.600000   \n",
       "10906   Personal L3           Offer2        Branch          273.018929   \n",
       "10907  Corporate L3           Offer1           Web          381.306996   \n",
       "10908   Personal L1           Offer1        Branch          618.288849   \n",
       "10909   Personal L1           Offer4           Web         1021.719397   \n",
       "\n",
       "       vehicle_class vehicle_size vehicle_type  effective_to_month  \n",
       "0      Four-Door Car      Medsize            U                   2  \n",
       "1      Four-Door Car      Medsize            U                   1  \n",
       "2                SUV      Medsize            A                   2  \n",
       "3      Four-Door Car      Medsize            A                   1  \n",
       "5      Four-Door Car      Medsize            A                   2  \n",
       "...              ...          ...          ...                 ...  \n",
       "10904     Luxury SUV      Medsize            A                   2  \n",
       "10906  Four-Door Car      Medsize            A                   1  \n",
       "10907     Luxury SUV      Medsize            U                   2  \n",
       "10908            SUV      Medsize            A                   2  \n",
       "10909            SUV      Medsize            U                   1  \n",
       "\n",
       "[10277 rows x 26 columns]"
      ]
     },
     "execution_count": 12,
     "metadata": {},
     "output_type": "execute_result"
    }
   ],
   "source": [
    "# 1. Show DataFrame info.\n",
    "market_cust_data"
   ]
  },
  {
   "cell_type": "code",
   "execution_count": null,
   "id": "0ff3d444",
   "metadata": {},
   "outputs": [],
   "source": [
    "# 2. Describe DataFrame.\n",
    "market_cust_data.describe().T"
   ]
  },
  {
   "cell_type": "code",
   "execution_count": 43,
   "id": "2fd425e2",
   "metadata": {},
   "outputs": [
    {
     "data": {
      "text/plain": [
       "<AxesSubplot:>"
      ]
     },
     "execution_count": 43,
     "metadata": {},
     "output_type": "execute_result"
    },
    {
     "data": {
      "image/png": "[encoded data removed]",
      "text/plain": [
       "<Figure size 640x480 with 1 Axes>"
      ]
     },
     "metadata": {},
     "output_type": "display_data"
    }
   ],
   "source": [
    "# 3. Show a plot of the total number of responses.\n",
    "\n",
    "import matplotlib.pyplot as plt\n",
    "import seaborn as sns \n",
    "%matplotlib inline\n",
    "\n",
    "market_cust_data['response'].value_counts().plot(kind='bar')"
   ]
  },
  {
   "cell_type": "code",
   "execution_count": 14,
   "id": "8c8888b9",
   "metadata": {},
   "outputs": [],
   "source": [
    "# 4. Show a plot of the response rate by the sales channel.\n",
    "market_cust_data['response_numeric']=market_cust_data['response'].apply(lambda x : 1 if x=='Yes' else 0)"
   ]
  },
  {
   "cell_type": "code",
   "execution_count": 48,
   "id": "7b70ff62",
   "metadata": {},
   "outputs": [
    {
     "data": {
      "image/png": "[encoded data removed]",
      "text/plain": [
       "<Figure size 640x480 with 1 Axes>"
      ]
     },
     "metadata": {},
     "output_type": "display_data"
    }
   ],
   "source": [
    "sns.barplot(x=\"sales_channel\", y=\"response_numeric\", data=market_cust_data)\n",
    "plt.show()"
   ]
  },
  {
   "cell_type": "code",
   "execution_count": 65,
   "id": "dad31046",
   "metadata": {},
   "outputs": [
    {
     "data": {
      "image/png": "[encoded data removed]",
      "text/plain": [
       "<Figure size 640x480 with 1 Axes>"
      ]
     },
     "metadata": {},
     "output_type": "display_data"
    }
   ],
   "source": [
    "# 5. Show a plot of the response rate by the total claim amount.\n",
    "sns.boxplot(x = 'response',y='total_claim_amount', data=market_cust_data)\n",
    "plt.show()"
   ]
  },
  {
   "cell_type": "code",
   "execution_count": 64,
   "id": "a92d7eb9",
   "metadata": {},
   "outputs": [
    {
     "data": {
      "image/png": "[encoded data removed]",
      "text/plain": [
       "<Figure size 640x480 with 1 Axes>"
      ]
     },
     "metadata": {},
     "output_type": "display_data"
    }
   ],
   "source": [
    "# 6. Show a plot of the response rate by income.\n",
    "sns.boxplot(x = 'response',y='income', data=market_cust_data)\n",
    "plt.show()"
   ]
  }
 ],
 "metadata": {
  "kernelspec": {
   "display_name": "Python 3 (ipykernel)",
   "language": "python",
   "name": "python3"
  },
  "language_info": {
   "codemirror_mode": {
    "name": "ipython",
    "version": 3
   },
   "file_extension": ".py",
   "mimetype": "text/x-python",
   "name": "python",
   "nbconvert_exporter": "python",
   "pygments_lexer": "ipython3",
   "version": "3.9.13"
  }
 },
 "nbformat": 4,
 "nbformat_minor": 5
}
