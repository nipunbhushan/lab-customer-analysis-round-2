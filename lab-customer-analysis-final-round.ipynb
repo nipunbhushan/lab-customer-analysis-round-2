{
 "cells": [
  {
   "cell_type": "markdown",
   "id": "75bb4f31",
   "metadata": {},
   "source": [
    "# 01/02/03 - Getting Data & Cleaning/Wrangling/EDA"
   ]
  },
  {
   "cell_type": "code",
   "execution_count": null,
   "id": "c3964487",
   "metadata": {},
   "outputs": [],
   "source": [
    "import numpy as np\n",
    "import pandas as pd\n",
    "pd.set_option('display.max_columns', None)\n",
    "import warnings\n",
    "warnings.filterwarnings('ignore')\n",
    "market_cust_data=pd.read_csv(\"files_for_lab/csv_files/marketing_customer_analysis.csv\")\n",
    "    \n",
    "def convert_nan_to_mode(df,colname):\n",
    "    if df[colname].isna().value_counts(normalize=True)[True]<0.1:\n",
    "        df[colname] = df[colname].fillna(df[colname].value_counts().index[0])\n",
    "    return df\n",
    "\n",
    "# NOTE: Run cell 1 and def convert_nan_to_mode(df,colname) function before running this transformation function.\n",
    "\n",
    "def transform_df(df):\n",
    "    # Drop the Unnamed column\n",
    "    df.drop(['Unnamed: 0'], axis=1,inplace=True)\n",
    "    # 2. Standardize header names.\n",
    "    df.columns = [col.lower().replace(' ','_') for col in df.columns] \n",
    "    # 3. Which columns are numerical?\n",
    "    list(df.describe(include=[int,float]).T.index)\n",
    "    # 4. Which columns are categorical?\n",
    "    list(df.describe(include=[object]).T.index)\n",
    "    # 5. Check and deal with NaN values.\n",
    "    df.isna().sum()\n",
    "    # As NaN account for less than 10%, we can safely replace the NaNs with Mode (most frequent value)\n",
    "    df=convert_nan_to_mode(df,'state')\n",
    "    # As NaN account for less than 10%, we can safely replace the NaNs with Mode (most frequent value)\n",
    "    df=convert_nan_to_mode(df,'response')\n",
    "    # Even though the NaNs account for less than 10% of the total values of this column, the column values are categorical and\n",
    "    # are evenly distributed in all the categories. Moving NaNs to any of the categories will 'skew' the distribution. The best\n",
    "    # way would be to delete the rows having NaNs in this column.\n",
    "    df = df[df['months_since_last_claim'].notna()]\n",
    "    # As NaN account for less than 10%, we can safely replace the NaNs with Mode (most frequent value)\n",
    "    df=convert_nan_to_mode(df,'vehicle_class')\n",
    "    # As NaN account for less than 10%, we can safely replace the NaNs with Mode (most frequent value)\n",
    "    df=convert_nan_to_mode(df,'vehicle_size')\n",
    "    # As NaNs account for more than 50% of the values in this column, we cannot simply remove the rows. We have to assign a default\n",
    "    # value to the NaNs which is not equal to the most frequent non null value 'A' otherwise the distribution will again get 'skewed'.\n",
    "    df['vehicle_type'] = df['vehicle_type'].fillna('U')\n",
    "    # 6. Extract the months from the dataset and store in a separate column. \n",
    "    df['effective_to_date']=pd.to_datetime(df['effective_to_date'],errors='coerce')\n",
    "    df['effective_to_month']=df['effective_to_date'].apply(lambda x : x.month)\n",
    "    df[df['effective_to_month'].isin([1,2,3])]\n",
    "    return df\n"
   ]
  },
  {
   "cell_type": "code",
   "execution_count": null,
   "id": "854a1283",
   "metadata": {},
   "outputs": [],
   "source": [
    "market_cust_data=transform_df(market_cust_data)\n",
    "market_cust_data.to_csv(\"market_cust_data.csv\",index=False)"
   ]
  },
  {
   "cell_type": "code",
   "execution_count": null,
   "id": "75053221",
   "metadata": {},
   "outputs": [],
   "source": [
    "# 2. Describe DataFrame.\n",
    "market_cust_data.describe().T"
   ]
  },
  {
   "cell_type": "code",
   "execution_count": null,
   "id": "2e4f5dfb",
   "metadata": {},
   "outputs": [],
   "source": [
    "# 3. Show a plot of the total number of responses.\n",
    "\n",
    "import matplotlib.pyplot as plt\n",
    "import seaborn as sns \n",
    "%matplotlib inline\n",
    "\n",
    "market_cust_data['response'].value_counts().plot(kind='bar')"
   ]
  },
  {
   "cell_type": "code",
   "execution_count": null,
   "id": "9ac66987",
   "metadata": {},
   "outputs": [],
   "source": [
    "# 4. Show a plot of the response rate by the sales channel.\n",
    "market_cust_data['response_numeric']=market_cust_data['response'].apply(lambda x : 1 if x=='Yes' else 0)\n",
    "sns.barplot(x=\"sales_channel\", y=\"response_numeric\", data=market_cust_data)\n",
    "plt.show()"
   ]
  },
  {
   "cell_type": "code",
   "execution_count": null,
   "id": "0ca6b5d9",
   "metadata": {},
   "outputs": [],
   "source": [
    "# 5. Show a plot of the response rate by the total claim amount.\n",
    "sns.barplot(x = 'response',y='total_claim_amount', data=pd.DataFrame(market_cust_data.groupby(['response'])['total_claim_amount'].sum()).reset_index())\n",
    "plt.show()"
   ]
  },
  {
   "cell_type": "code",
   "execution_count": null,
   "id": "01b1f7aa",
   "metadata": {},
   "outputs": [],
   "source": [
    "# 6. Show a plot of the response rate by income.\n",
    "#sns.boxplot(x = 'response',y='income', data=pd.DataFrame(market_cust_data.groupby(['response'])['income'].sum()).reset_index())\n",
    "#plt.show()"
   ]
  },
  {
   "cell_type": "code",
   "execution_count": null,
   "id": "7d416f97",
   "metadata": {},
   "outputs": [],
   "source": [
    "# 1. Check the data types of the columns. Get the numeric data into dataframe called numerical and categorical columns in a dataframe called categoricals.\n",
    "import numpy as np\n",
    "numerical=market_cust_data.select_dtypes(include=np.number)\n",
    "categoricals=market_cust_data.select_dtypes(include=object)"
   ]
  },
  {
   "cell_type": "code",
   "execution_count": null,
   "id": "b050876e",
   "metadata": {},
   "outputs": [],
   "source": [
    "# 2.1. Use seaborn library to construct distribution plots for the numerical variables\n",
    "for col in numerical.columns:\n",
    "    sns.displot(numerical[col]) \n",
    "plt.show()"
   ]
  },
  {
   "cell_type": "markdown",
   "id": "fb36bccc",
   "metadata": {},
   "source": [
    "# 04 - Processing Data"
   ]
  },
  {
   "cell_type": "code",
   "execution_count": null,
   "id": "4e7f5533",
   "metadata": {},
   "outputs": [],
   "source": []
  }
 ],
 "metadata": {
  "kernelspec": {
   "display_name": "Python 3 (ipykernel)",
   "language": "python",
   "name": "python3"
  },
  "language_info": {
   "codemirror_mode": {
    "name": "ipython",
    "version": 3
   },
   "file_extension": ".py",
   "mimetype": "text/x-python",
   "name": "python",
   "nbconvert_exporter": "python",
   "pygments_lexer": "ipython3",
   "version": "3.9.13"
  }
 },
 "nbformat": 4,
 "nbformat_minor": 5
}
